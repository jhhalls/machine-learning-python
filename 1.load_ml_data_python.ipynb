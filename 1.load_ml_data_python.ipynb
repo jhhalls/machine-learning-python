{
 "cells": [
  {
   "cell_type": "markdown",
   "metadata": {},
   "source": [
    "# How To Load Machine Learning Data in Python\n",
    "You must be able to load your data before you can start your machine learning project.\n",
    "\n",
    "The most common format for machine learning data is CSV files. There are a number of ways to load a CSV file in Python.\n",
    "\n",
    "In this post you will discover the different ways that you can use to load your machine learning data in Python.\n",
    "\n",
    "Let’s get started.\n",
    "\n",
    "## Considerations When Loading CSV Data\n",
    "\n",
    "### CSV File Header\n",
    "Does your data have a file header?\n",
    "\n",
    "If so this can help in automatically assigning names to each column of data. If not, you may need to name your attributes manually.\n",
    "\n",
    "Either way, you should explicitly specify whether or not your CSV file had a file header when loading your data.\n",
    "\n",
    "### Comments\n",
    "Does your data have comments?\n",
    "\n",
    "Comments in a CSV file are indicated by a hash (“#”) at the start of a line.\n",
    "\n",
    "If you have comments in your file, depending on the method used to load your data, you may need to indicate whether or not to expect comments and the character to expect to signify a comment line.\n",
    "\n",
    "### Delimiter\n",
    "The standard delimiter that separates values in fields is the comma (“,”) character.\n",
    "\n",
    "Your file could use a different delimiter like tab (“\\t”) in which case you must specify it explicitly.\n",
    "\n",
    "### Quotes\n",
    "Sometimes field values can have spaces. In these CSV files the values are often quoted.\n",
    "\n",
    "The default quote character is the double quotation marks “\\””. Other characters can be used, and you must specify the quote character used in your file.\n",
    "\n",
    "## Machine Learning Data Loading Recipes\n",
    "Each recipe is standalone.\n",
    "\n",
    "This means that you can copy and paste it into your project and use it immediately.\n",
    "\n",
    "If you have any questions about these recipes or suggested improvements, please leave a comment and I will do my best to answer.\n",
    "\n",
    "### Load CSV with Python Standard Library\n",
    "The Python API provides the module CSV and the function reader() that can be used to load CSV files.\n",
    "\n",
    "Once loaded, you convert the CSV data to a NumPy array and use it for machine learning.\n"
   ]
  },
  {
   "cell_type": "code",
   "execution_count": 3,
   "metadata": {},
   "outputs": [
    {
     "name": "stdout",
     "output_type": "stream",
     "text": [
      "(768, 9)\n"
     ]
    }
   ],
   "source": [
    "# Load CSV (using python)\n",
    "import csv\n",
    "import numpy\n",
    "filename = 'pima-indians-diabetes.data.csv'\n",
    "raw_data = open(filename, 'rt')\n",
    "reader = csv.reader(raw_data, delimiter=',', quoting=csv.QUOTE_NONE)\n",
    "x = list(reader)\n",
    "data = numpy.array(x).astype('float')\n",
    "print(data.shape)"
   ]
  },
  {
   "cell_type": "markdown",
   "metadata": {},
   "source": [
    "### Load CSV File With NumPy\n",
    "You can load your CSV data using NumPy and the numpy.loadtxt() function.\n",
    "\n",
    "This function assumes no header row and all data has the same format. The example below assumes that the file pima-indians-diabetes.data.csv is in your current working directory."
   ]
  },
  {
   "cell_type": "code",
   "execution_count": 4,
   "metadata": {},
   "outputs": [
    {
     "name": "stdout",
     "output_type": "stream",
     "text": [
      "(768, 9)\n"
     ]
    }
   ],
   "source": [
    "# Load CSV\n",
    "import numpy\n",
    "filename = 'pima-indians-diabetes.data.csv'\n",
    "raw_data = open(filename, 'rt')\n",
    "data = numpy.loadtxt(raw_data, delimiter=\",\")\n",
    "print(data.shape)"
   ]
  },
  {
   "cell_type": "markdown",
   "metadata": {},
   "source": [
    "### Load CSV File With Pandas\n",
    "You can load your CSV data using Pandas and the pandas.read_csv() function.\n",
    "\n",
    "This function is very flexible and is perhaps my recommended approach for loading your machine learning data. The function returns a pandas.DataFrame that you can immediately start summarizing and plotting.\n",
    "\n",
    "The example below assumes that the ‘pima-indians-diabetes.data.csv‘ file is in the current working directory."
   ]
  },
  {
   "cell_type": "code",
   "execution_count": 5,
   "metadata": {},
   "outputs": [
    {
     "name": "stdout",
     "output_type": "stream",
     "text": [
      "(768, 9)\n"
     ]
    }
   ],
   "source": [
    "# Load CSV using Pandas\n",
    "import pandas\n",
    "filename = 'pima-indians-diabetes.data.csv'\n",
    "names = ['preg', 'plas', 'pres', 'skin', 'test', 'mass', 'pedi', 'age', 'class']\n",
    "data = pandas.read_csv(filename, names=names)\n",
    "print(data.shape)"
   ]
  },
  {
   "cell_type": "markdown",
   "metadata": {},
   "source": [
    "## Summary\n",
    "In this post you discovered how to load your machine learning data in Python.\n",
    "\n",
    "You learned three specific techniques that you can use:\n",
    "* Load CSV with Python Standard Library.\n",
    "* Load CSV File With NumPy.\n",
    "* Load CSV File With Pandas.\n",
    "Your action step for this post is to type or copy-and-paste each recipe and get familiar with the different ways that you can load machine learning data in Python."
   ]
  }
 ],
 "metadata": {
  "kernelspec": {
   "display_name": "Python 3",
   "language": "python",
   "name": "python3"
  },
  "language_info": {
   "codemirror_mode": {
    "name": "ipython",
    "version": 3
   },
   "file_extension": ".py",
   "mimetype": "text/x-python",
   "name": "python",
   "nbconvert_exporter": "python",
   "pygments_lexer": "ipython3",
   "version": "3.7.7"
  },
  "toc": {
   "base_numbering": 1,
   "nav_menu": {},
   "number_sections": true,
   "sideBar": true,
   "skip_h1_title": false,
   "title_cell": "Table of Contents",
   "title_sidebar": "Contents",
   "toc_cell": false,
   "toc_position": {},
   "toc_section_display": true,
   "toc_window_display": false
  }
 },
 "nbformat": 4,
 "nbformat_minor": 2
}
