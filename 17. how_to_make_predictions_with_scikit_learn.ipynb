{
 "cells": [
  {
   "cell_type": "markdown",
   "metadata": {},
   "source": [
    "# How to Make Predictions with scikit-learn\n",
    "Once you choose and fit a final machine learning model in scikit-learn, you can use it to make predictions on new data instances.\n",
    "\n",
    "There is some confusion amongst beginners about how exactly to do this. I often see questions such as:\n",
    "\n",
    "How do I make predictions with my model in scikit-learn?\n",
    "\n",
    "In this tutorial, you will discover exactly how you can make classification and regression predictions with a finalized machine learning model in the scikit-learn Python library.\n",
    "\n",
    "After completing this tutorial, you will know:\n",
    "\n",
    "* How to finalize a model in order to make it ready for making predictions.\n",
    "* How to make class and probability predictions in scikit-learn.\n",
    "* How to make regression predictions in scikit-learn.\n",
    "\n",
    "Let’s get started.\n",
    "\n",
    "## Tutorial Overview\n",
    "This tutorial is divided into 3 parts; they are:\n",
    "\n",
    "1. First Finalize Your Model\n",
    "2. How to Predict With Classification Models\n",
    "3. How to Predict With Regression Models"
   ]
  },
  {
   "cell_type": "markdown",
   "metadata": {},
   "source": [
    "## 1. First Finalize Your Model\n",
    "Before you can make predictions, you must train a final model.\n",
    "\n",
    "You may have trained models using k-fold cross validation or train/test splits of your data. This was done in order to give you an estimate of the skill of the model on out-of-sample data, e.g. new data.\n",
    "\n",
    "These models have served their purpose and can now be discarded.\n",
    "\n",
    "You now must train a final model on all of your available data.\n",
    "\n",
    "## 2. How to Predict With Classification Models\n",
    "Classification problems are those where the model learns a mapping between input features and an output feature that is a label, such as “spam” and “not spam.”\n",
    "\n",
    "Below is sample code of a finalized LogisticRegression model for a simple binary classification problem.\n",
    "\n",
    "Although we are using LogisticRegression in this tutorial, the same functions are available on practically all classification algorithms in scikit-learn."
   ]
  },
  {
   "cell_type": "code",
   "execution_count": null,
   "metadata": {
    "collapsed": true
   },
   "outputs": [],
   "source": [
    "# example of training a final classification model\n",
    "from sklearn.linear_model import LogisticRegression\n",
    "from sklearn.datasets.samples_generator import make_blobs\n",
    "# generate 2d classification dataset\n",
    "X, y = make_blobs(n_samples=100, centers=2, n_features=2, random_state=1)\n",
    "# fit final model\n",
    "model = LogisticRegression()\n",
    "model.fit(X, y)"
   ]
  },
  {
   "cell_type": "markdown",
   "metadata": {},
   "source": [
    "After finalizing your model, you may want to save the model to file, e.g. via pickle. Once saved, you can load the model any time and use it to make predictions.\n",
    "\n",
    "For simplicity, we will skip this step for the examples in this tutorial.\n",
    "\n",
    "There are two types of classification predictions we may wish to make with our finalized model; they are class predictions and probability predictions.\n",
    "\n",
    "### Class Predictions\n",
    "A class prediction is: given the finalized model and one or more data instances, predict the class for the data instances.\n",
    "\n",
    "We do not know the outcome classes for the new data. That is why we need the model in the first place.\n",
    "\n",
    "We can predict the class for new data instances using our finalized classification model in scikit-learn using the predict() function.\n",
    "\n",
    "For example, we have one or more data instances in an array called Xnew. This can be passed to the predict() function on our model in order to predict the class values for each instance in the array."
   ]
  },
  {
   "cell_type": "code",
   "execution_count": null,
   "metadata": {
    "collapsed": true
   },
   "outputs": [],
   "source": [
    "Xnew = [[...], [...]]\n",
    "ynew = model.predict(Xnew)"
   ]
  },
  {
   "cell_type": "markdown",
   "metadata": {},
   "source": [
    "### Multiple Class Predictions\n",
    "Let’s make this concrete with an example of predicting multiple data instances at once."
   ]
  },
  {
   "cell_type": "code",
   "execution_count": 1,
   "metadata": {},
   "outputs": [
    {
     "name": "stdout",
     "output_type": "stream",
     "text": [
      "X=[-0.79415228  2.10495117], Predicted=0\n",
      "X=[-8.25290074 -4.71455545], Predicted=1\n",
      "X=[-2.18773166  3.33352125], Predicted=0\n"
     ]
    }
   ],
   "source": [
    "# example of training a final classification model\n",
    "from sklearn.linear_model import LogisticRegression\n",
    "from sklearn.datasets.samples_generator import make_blobs\n",
    "# generate 2d classification dataset\n",
    "X, y = make_blobs(n_samples=100, centers=2, n_features=2, random_state=1)\n",
    "# fit final model\n",
    "model = LogisticRegression()\n",
    "model.fit(X, y)\n",
    "# new instances where we do not know the answer\n",
    "Xnew, _ = make_blobs(n_samples=3, centers=2, n_features=2, random_state=1)\n",
    "# make a prediction\n",
    "ynew = model.predict(Xnew)\n",
    "# show the inputs and predicted outputs\n",
    "for i in range(len(Xnew)):\n",
    "\tprint(\"X=%s, Predicted=%s\" % (Xnew[i], ynew[i]))"
   ]
  },
  {
   "cell_type": "markdown",
   "metadata": {},
   "source": [
    "Running the example predicts the class for the three new data instances, then prints the data and the predictions together.\n",
    "\n",
    "### Single Class Prediction\n",
    "If you had just one new data instance, you can provide this as instance wrapped in an array to the predict() function; for example:"
   ]
  },
  {
   "cell_type": "code",
   "execution_count": 2,
   "metadata": {},
   "outputs": [
    {
     "name": "stdout",
     "output_type": "stream",
     "text": [
      "X=[-0.79415228, 2.10495117], Predicted=0\n"
     ]
    }
   ],
   "source": [
    "# example of making a single class prediction\n",
    "from sklearn.linear_model import LogisticRegression\n",
    "from sklearn.datasets.samples_generator import make_blobs\n",
    "# generate 2d classification dataset\n",
    "X, y = make_blobs(n_samples=100, centers=2, n_features=2, random_state=1)\n",
    "# fit final model\n",
    "model = LogisticRegression()\n",
    "model.fit(X, y)\n",
    "# define one new instance\n",
    "Xnew = [[-0.79415228, 2.10495117]]\n",
    "# make a prediction\n",
    "ynew = model.predict(Xnew)\n",
    "print(\"X=%s, Predicted=%s\" % (Xnew[0], ynew[0]))"
   ]
  },
  {
   "cell_type": "markdown",
   "metadata": {},
   "source": [
    "Running the example prints the single instance and the predicted class.\n",
    "\n",
    "### A Note on Class Labels\n",
    "When you prepared your data, you will have mapped the class values from your domain (such as strings) to integer values. You may have used a LabelEncoder.\n",
    "\n",
    "This LabelEncoder can be used to convert the integers back into string values via the inverse_transform() function.\n",
    "\n",
    "For this reason, you may want to save (pickle) the LabelEncoder used to encode your y values when fitting your final model.\n",
    "\n",
    "### Probability Predictions\n",
    "Another type of prediction you may wish to make is the probability of the data instance belonging to each class.\n",
    "\n",
    "This is called a probability prediction where given a new instance, the model returns the probability for each outcome class as a value between 0 and 1.\n",
    "\n",
    "You can make these types of predictions in scikit-learn by calling the predict_proba() function, for example:"
   ]
  },
  {
   "cell_type": "code",
   "execution_count": null,
   "metadata": {
    "collapsed": true
   },
   "outputs": [],
   "source": [
    "Xnew = [[...], [...]]\n",
    "ynew = model.predict_proba(Xnew)"
   ]
  },
  {
   "cell_type": "markdown",
   "metadata": {},
   "source": [
    "This function is only available on those classification models capable of making a probability prediction, which is most, but not all, models.\n",
    "\n",
    "The example below makes a probability prediction for each example in the Xnew array of data instance."
   ]
  },
  {
   "cell_type": "code",
   "execution_count": 3,
   "metadata": {},
   "outputs": [
    {
     "name": "stdout",
     "output_type": "stream",
     "text": [
      "X=[-0.79415228  2.10495117], Predicted=[0.94556472 0.05443528]\n",
      "X=[-8.25290074 -4.71455545], Predicted=[3.60980873e-04 9.99639019e-01]\n",
      "X=[-2.18773166  3.33352125], Predicted=[0.98437415 0.01562585]\n"
     ]
    }
   ],
   "source": [
    "# example of making multiple probability predictions\n",
    "from sklearn.linear_model import LogisticRegression\n",
    "from sklearn.datasets.samples_generator import make_blobs\n",
    "# generate 2d classification dataset\n",
    "X, y = make_blobs(n_samples=100, centers=2, n_features=2, random_state=1)\n",
    "# fit final model\n",
    "model = LogisticRegression()\n",
    "model.fit(X, y)\n",
    "# new instances where we do not know the answer\n",
    "Xnew, _ = make_blobs(n_samples=3, centers=2, n_features=2, random_state=1)\n",
    "# make a prediction\n",
    "ynew = model.predict_proba(Xnew)\n",
    "# show the inputs and predicted probabilities\n",
    "for i in range(len(Xnew)):\n",
    "\tprint(\"X=%s, Predicted=%s\" % (Xnew[i], ynew[i]))"
   ]
  },
  {
   "cell_type": "markdown",
   "metadata": {},
   "source": [
    "Running the instance makes the probability predictions and then prints the input data instance and the probability of each instance belonging to the first and second classes (0 and 1).\n",
    "\n",
    "This can be helpful in your application if you want to present the probabilities to the user for expert interpretation.\n",
    "\n",
    "## 3. How to Predict With Regression Models\n",
    "Regression is a supervised learning problem where, given input examples, the model learns a mapping to suitable output quantities, such as “0.1” and “0.2”, etc.\n",
    "\n",
    "Below is an example of a finalized LinearRegression model. Again, the functions demonstrated for making regression predictions apply to all of the regression models available in scikit-learn."
   ]
  },
  {
   "cell_type": "code",
   "execution_count": null,
   "metadata": {
    "collapsed": true
   },
   "outputs": [],
   "source": [
    "# example of training a final regression model\n",
    "from sklearn.linear_model import LinearRegression\n",
    "from sklearn.datasets import make_regression\n",
    "# generate regression dataset\n",
    "X, y = make_regression(n_samples=100, n_features=2, noise=0.1, random_state=1)\n",
    "# fit final model\n",
    "model = LinearRegression()\n",
    "model.fit(X, y)"
   ]
  },
  {
   "cell_type": "markdown",
   "metadata": {},
   "source": [
    "We can predict quantities with the finalized regression model by calling the predict() function on the finalized model.\n",
    "\n",
    "As with classification, the predict() function takes a list or array of one or more data instances.\n",
    "\n",
    "### Multiple Regression Predictions\n",
    "The example below demonstrates how to make regression predictions on multiple data instances with an unknown expected outcome."
   ]
  },
  {
   "cell_type": "code",
   "execution_count": 4,
   "metadata": {},
   "outputs": [
    {
     "name": "stdout",
     "output_type": "stream",
     "text": [
      "X=[-1.07296862 -0.52817175], Predicted=-106.963985510318\n",
      "X=[-0.61175641  1.62434536], Predicted=70.79327561703309\n",
      "X=[-2.3015387   0.86540763], Predicted=-92.65159070316285\n"
     ]
    },
    {
     "name": "stderr",
     "output_type": "stream",
     "text": [
      "/Library/Frameworks/Python.framework/Versions/3.6/lib/python3.6/site-packages/scipy/linalg/basic.py:1226: RuntimeWarning: internal gelsd driver lwork query error, required iwork dimension not returned. This is likely the result of LAPACK bug 0038, fixed in LAPACK 3.2.2 (released July 21, 2010). Falling back to 'gelss' driver.\n",
      "  warnings.warn(mesg, RuntimeWarning)\n"
     ]
    }
   ],
   "source": [
    "# example of training a final regression model\n",
    "from sklearn.linear_model import LinearRegression\n",
    "from sklearn.datasets import make_regression\n",
    "# generate regression dataset\n",
    "X, y = make_regression(n_samples=100, n_features=2, noise=0.1)\n",
    "# fit final model\n",
    "model = LinearRegression()\n",
    "model.fit(X, y)\n",
    "# new instances where we do not know the answer\n",
    "Xnew, _ = make_regression(n_samples=3, n_features=2, noise=0.1, random_state=1)\n",
    "# make a prediction\n",
    "ynew = model.predict(Xnew)\n",
    "# show the inputs and predicted outputs\n",
    "for i in range(len(Xnew)):\n",
    "\tprint(\"X=%s, Predicted=%s\" % (Xnew[i], ynew[i]))"
   ]
  },
  {
   "cell_type": "markdown",
   "metadata": {},
   "source": [
    "Running the example makes multiple predictions, then prints the inputs and predictions side-by-side for review.\n",
    "\n",
    "### Single Regression Prediction\n",
    "The same function can be used to make a prediction for a single data instance as long as it is suitably wrapped in a surrounding list or array.\n",
    "\n",
    "For example:"
   ]
  },
  {
   "cell_type": "code",
   "execution_count": 5,
   "metadata": {},
   "outputs": [
    {
     "name": "stdout",
     "output_type": "stream",
     "text": [
      "X=[-1.07296862, -0.52817175], Predicted=-101.07780258137988\n"
     ]
    }
   ],
   "source": [
    "# example of training a final regression model\n",
    "from sklearn.linear_model import LinearRegression\n",
    "from sklearn.datasets import make_regression\n",
    "# generate regression dataset\n",
    "X, y = make_regression(n_samples=100, n_features=2, noise=0.1)\n",
    "# fit final model\n",
    "model = LinearRegression()\n",
    "model.fit(X, y)\n",
    "# define one new data instance\n",
    "Xnew = [[-1.07296862, -0.52817175]]\n",
    "# make a prediction\n",
    "ynew = model.predict(Xnew)\n",
    "# show the inputs and predicted outputs\n",
    "print(\"X=%s, Predicted=%s\" % (Xnew[0], ynew[0]))"
   ]
  },
  {
   "cell_type": "markdown",
   "metadata": {},
   "source": [
    "Running the example makes a single prediction and prints the data instance and prediction for review.\n",
    "\n",
    "## Summary\n",
    "In this tutorial, you discovered how you can make classification and regression predictions with a finalized machine learning model in the scikit-learn Python library.\n",
    "\n",
    "Specifically, you learned:\n",
    "\n",
    "* How to finalize a model in order to make it ready for making predictions.\n",
    "* How to make class and probability predictions in scikit-learn.\n",
    "* How to make regression predictions in scikit-learn."
   ]
  }
 ],
 "metadata": {
  "kernelspec": {
   "display_name": "Python 3",
   "language": "python",
   "name": "python3"
  },
  "language_info": {
   "codemirror_mode": {
    "name": "ipython",
    "version": 3
   },
   "file_extension": ".py",
   "mimetype": "text/x-python",
   "name": "python",
   "nbconvert_exporter": "python",
   "pygments_lexer": "ipython3",
   "version": "3.6.4"
  }
 },
 "nbformat": 4,
 "nbformat_minor": 2
}
