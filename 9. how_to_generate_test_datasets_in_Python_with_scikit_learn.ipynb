{
 "cells": [
  {
   "cell_type": "markdown",
   "metadata": {},
   "source": [
    "# How to Generate Test Datasets in Python with scikit-learn\n",
    "Test datasets are small contrived datasets that let you test a machine learning algorithm or test harness.\n",
    "\n",
    "The data from test datasets have well-defined properties, such as linearly or non-linearity, that allow you to explore specific algorithm behavior. The scikit-learn Python library provides a suite of functions for generating samples from configurable test problems for regression and classification.\n",
    "\n",
    "In this tutorial, you will discover test problems and how to use them in Python with scikit-learn.\n",
    "\n",
    "After completing this tutorial, you will know:\n",
    "\n",
    "* How to generate multi-class classification prediction test problems.\n",
    "* How to generate binary classification prediction test problems.\n",
    "* How to generate linear regression prediction test problems.\n",
    "\n",
    "Let’s get started.\n",
    "\n",
    "## Tutorial Overview\n",
    "This tutorial is divided into 3 parts; they are:\n",
    "\n",
    "1. Test Datasets\n",
    "2. Classification Test Problems\n",
    "3. Regression Test Problems\n",
    "\n",
    "## Test Datasets\n",
    "A problem when developing and implementing machine learning algorithms is how do you know whether you have implemented them correctly. They seem to work even with bugs.\n",
    "\n",
    "Test datasets are small contrived problems that allow you to test and debug your algorithms and test harness. They are also useful for better understanding the behavior of algorithms in response to changes in hyperparameters.\n",
    "\n",
    "Below are some desirable properties of test datasets:\n",
    "\n",
    "* They can be generated quickly and easily.\n",
    "* They contain “known” or “understood” outcomes for comparison with predictions.\n",
    "* They are stochastic, allowing random variations on the same problem each time they are generated.\n",
    "* They are small and easily visualized in two dimensions.\n",
    "* They can be scaled up trivially.\n",
    "\n",
    "I recommend using test datasets when getting started with a new machine learning algorithm or when developing a new test harness.\n",
    "\n",
    "scikit-learn is a Python library for machine learning that provides functions for generating a suite of test problems.\n",
    "\n",
    "In this tutorial, we will look at some examples of generating test problems for classification and regression algorithms."
   ]
  },
  {
   "cell_type": "markdown",
   "metadata": {},
   "source": [
    "## Classification Test Problems\n",
    "Classification is the problem of assigning labels to observations.\n",
    "\n",
    "In this section, we will look at three classification problems: blobs, moons and circles.\n",
    "\n",
    "### Blobs Classification Problem\n",
    "The make_blobs() function can be used to generate blobs of points with a Gaussian distribution.\n",
    "\n",
    "You can control how many blobs to generate and the number of samples to generate, as well as a host of other properties.\n",
    "\n",
    "The problem is suitable for linear classification problems given the linearly separable nature of the blobs.\n",
    "\n",
    "The example below generates a 2D dataset of samples with three blobs as a multi-class classification prediction problem. Each observation has two inputs and 0, 1, or 2 class values."
   ]
  },
  {
   "cell_type": "code",
   "execution_count": null,
   "metadata": {
    "collapsed": true
   },
   "outputs": [],
   "source": [
    "# generate 2d classification dataset\n",
    "X, y = make_blobs(n_samples=100, centers=3, n_features=2)"
   ]
  },
  {
   "cell_type": "markdown",
   "metadata": {},
   "source": [
    "The complete example is listed below."
   ]
  },
  {
   "cell_type": "code",
   "execution_count": 2,
   "metadata": {},
   "outputs": [
    {
     "data": {
      "image/png": "[encoded data removed]",
      "text/plain": [
       "<matplotlib.figure.Figure at 0x10a159a90>"
      ]
     },
     "metadata": {},
     "output_type": "display_data"
    }
   ],
   "source": [
    "%matplotlib inline\n",
    "from sklearn.datasets.samples_generator import make_blobs\n",
    "from matplotlib import pyplot\n",
    "from pandas import DataFrame\n",
    "# generate 2d classification dataset\n",
    "X, y = make_blobs(n_samples=100, centers=3, n_features=2)\n",
    "# scatter plot, dots colored by class value\n",
    "df = DataFrame(dict(x=X[:,0], y=X[:,1], label=y))\n",
    "colors = {0:'red', 1:'blue', 2:'green'}\n",
    "fig, ax = pyplot.subplots()\n",
    "grouped = df.groupby('label')\n",
    "for key, group in grouped:\n",
    "    group.plot(ax=ax, kind='scatter', x='x', y='y', label=key, color=colors[key])\n",
    "pyplot.show()"
   ]
  },
  {
   "cell_type": "markdown",
   "metadata": {},
   "source": [
    "Running the example generates the inputs and outputs for the problem and then creates a handy 2D plot showing points for the different classes using different colors.\n",
    "\n",
    "Note, your specific dataset and resulting plot will vary given the stochastic nature of the problem generator. This is a feature, not a bug.\n",
    "\n",
    "We will use this same example structure for the following examples.\n",
    "\n",
    "### Moons Classification Problem\n",
    "The make_moons() function is for binary classification and will generate a swirl pattern, or two moons.\n",
    "\n",
    "You can control how noisy the moon shapes are and the number of samples to generate.\n",
    "\n",
    "This test problem is suitable for algorithms that are capable of learning nonlinear class boundaries.\n",
    "\n",
    "The example below generates a moon dataset with moderate noise."
   ]
  },
  {
   "cell_type": "code",
   "execution_count": null,
   "metadata": {
    "collapsed": true
   },
   "outputs": [],
   "source": [
    "# generate 2d classification dataset\n",
    "X, y = make_moons(n_samples=100, noise=0.1)"
   ]
  },
  {
   "cell_type": "markdown",
   "metadata": {},
   "source": [
    "The complete example is listed below."
   ]
  },
  {
   "cell_type": "code",
   "execution_count": 3,
   "metadata": {},
   "outputs": [
    {
     "data": {
      "image/png": "[encoded data removed]",
      "text/plain": [
       "<matplotlib.figure.Figure at 0x10a236668>"
      ]
     },
     "metadata": {},
     "output_type": "display_data"
    }
   ],
   "source": [
    "%matplotlib inline\n",
    "from sklearn.datasets import make_moons\n",
    "from matplotlib import pyplot\n",
    "from pandas import DataFrame\n",
    "# generate 2d classification dataset\n",
    "X, y = make_moons(n_samples=100, noise=0.1)\n",
    "# scatter plot, dots colored by class value\n",
    "df = DataFrame(dict(x=X[:,0], y=X[:,1], label=y))\n",
    "colors = {0:'red', 1:'blue'}\n",
    "fig, ax = pyplot.subplots()\n",
    "grouped = df.groupby('label')\n",
    "for key, group in grouped:\n",
    "    group.plot(ax=ax, kind='scatter', x='x', y='y', label=key, color=colors[key])\n",
    "pyplot.show()"
   ]
  },
  {
   "cell_type": "markdown",
   "metadata": {},
   "source": [
    "Running the example generates and plots the dataset for review, again coloring samples by their assigned class.\n",
    "\n",
    "### Circles Classification Problem\n",
    "The make_circles() function generates a binary classification problem with datasets that fall into concentric circles.\n",
    "\n",
    "Again, as with the moons test problem, you can control the amount of noise in the shapes.\n",
    "\n",
    "This test problem is suitable for algorithms that can learn complex non-linear manifolds.\n",
    "\n",
    "The example below generates a circles dataset with some noise."
   ]
  },
  {
   "cell_type": "code",
   "execution_count": null,
   "metadata": {
    "collapsed": true
   },
   "outputs": [],
   "source": [
    "# generate 2d classification dataset\n",
    "X, y = make_circles(n_samples=100, noise=0.05)"
   ]
  },
  {
   "cell_type": "markdown",
   "metadata": {},
   "source": [
    "The complete example is listed below."
   ]
  },
  {
   "cell_type": "code",
   "execution_count": 4,
   "metadata": {},
   "outputs": [
    {
     "data": {
      "image/png": "[encoded data removed]",
      "text/plain": [
       "<matplotlib.figure.Figure at 0x10a293d68>"
      ]
     },
     "metadata": {},
     "output_type": "display_data"
    }
   ],
   "source": [
    "%matplotlib inline\n",
    "from sklearn.datasets import make_circles\n",
    "from matplotlib import pyplot\n",
    "from pandas import DataFrame\n",
    "# generate 2d classification dataset\n",
    "X, y = make_circles(n_samples=100, noise=0.05)\n",
    "# scatter plot, dots colored by class value\n",
    "df = DataFrame(dict(x=X[:,0], y=X[:,1], label=y))\n",
    "colors = {0:'red', 1:'blue'}\n",
    "fig, ax = pyplot.subplots()\n",
    "grouped = df.groupby('label')\n",
    "for key, group in grouped:\n",
    "    group.plot(ax=ax, kind='scatter', x='x', y='y', label=key, color=colors[key])\n",
    "pyplot.show()"
   ]
  },
  {
   "cell_type": "markdown",
   "metadata": {},
   "source": [
    "Running the example generates and plots the dataset for review.\n",
    "\n",
    "## Regression Test Problems\n",
    "Regression is the problem of predicting a quantity given an observation.\n",
    "\n",
    "The make_regression() function will create a dataset with a linear relationship between inputs and the outputs.\n",
    "\n",
    "You can configure the number of samples, number of input features, level of noise, and much more.\n",
    "\n",
    "This dataset is suitable for algorithms that can learn a linear regression function.\n",
    "\n",
    "The example below will generate 100 examples with one input feature and one output feature with modest noise."
   ]
  },
  {
   "cell_type": "code",
   "execution_count": null,
   "metadata": {
    "collapsed": true
   },
   "outputs": [],
   "source": [
    "# generate regression dataset\n",
    "X, y = make_regression(n_samples=100, n_features=1, noise=0.1)"
   ]
  },
  {
   "cell_type": "markdown",
   "metadata": {},
   "source": [
    "The complete example is listed below."
   ]
  },
  {
   "cell_type": "code",
   "execution_count": 5,
   "metadata": {},
   "outputs": [
    {
     "data": {
      "image/png": "[encoded data removed]",
      "text/plain": [
       "<matplotlib.figure.Figure at 0x10a293dd8>"
      ]
     },
     "metadata": {},
     "output_type": "display_data"
    }
   ],
   "source": [
    "%matplotlib inline\n",
    "from sklearn.datasets import make_regression\n",
    "from matplotlib import pyplot\n",
    "# generate regression dataset\n",
    "X, y = make_regression(n_samples=100, n_features=1, noise=0.1)\n",
    "# plot regression dataset\n",
    "pyplot.scatter(X,y)\n",
    "pyplot.show()"
   ]
  },
  {
   "cell_type": "markdown",
   "metadata": {},
   "source": [
    "Running the example will generate the data and plot the X and y relationship, which, given that it is linear, is quite boring.\n",
    "\n",
    "## Summary\n",
    "In this tutorial, you discovered test problems and how to use them in Python with scikit-learn.\n",
    "\n",
    "Specifically, you learned:\n",
    "* How to generate multi-class classification prediction test problems.\n",
    "* How to generate binary classification prediction test problems.\n",
    "* How to generate linear regression prediction test problems."
   ]
  }
 ],
 "metadata": {
  "kernelspec": {
   "display_name": "Python 3",
   "language": "python",
   "name": "python3"
  },
  "language_info": {
   "codemirror_mode": {
    "name": "ipython",
    "version": 3
   },
   "file_extension": ".py",
   "mimetype": "text/x-python",
   "name": "python",
   "nbconvert_exporter": "python",
   "pygments_lexer": "ipython3",
   "version": "3.6.4"
  }
 },
 "nbformat": 4,
 "nbformat_minor": 2
}
